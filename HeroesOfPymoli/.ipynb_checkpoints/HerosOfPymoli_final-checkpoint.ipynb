{
 "cells": [
  {
   "cell_type": "code",
   "execution_count": 1,
   "metadata": {},
   "outputs": [],
   "source": [
    "import pandas as pd"
   ]
  },
  {
   "cell_type": "code",
   "execution_count": 2,
   "metadata": {},
   "outputs": [],
   "source": [
    "import os"
   ]
  },
  {
   "cell_type": "code",
   "execution_count": 3,
   "metadata": {},
   "outputs": [],
   "source": [
    "import numpy as np"
   ]
  },
  {
   "cell_type": "code",
   "execution_count": 4,
   "metadata": {},
   "outputs": [],
   "source": [
    "path = os.path.join(\"Resources\", \"purchase_data.csv\")"
   ]
  },
  {
   "cell_type": "code",
   "execution_count": 5,
   "metadata": {},
   "outputs": [],
   "source": [
    "df = pd.read_csv(path)"
   ]
  },
  {
   "cell_type": "code",
   "execution_count": 6,
   "metadata": {},
   "outputs": [],
   "source": [
    "#display the total count of players"
   ]
  },
  {
   "cell_type": "code",
   "execution_count": 7,
   "metadata": {},
   "outputs": [
    {
     "data": {
      "text/html": [
       "<div>\n",
       "<style scoped>\n",
       "    .dataframe tbody tr th:only-of-type {\n",
       "        vertical-align: middle;\n",
       "    }\n",
       "\n",
       "    .dataframe tbody tr th {\n",
       "        vertical-align: top;\n",
       "    }\n",
       "\n",
       "    .dataframe thead th {\n",
       "        text-align: right;\n",
       "    }\n",
       "</style>\n",
       "<table border=\"1\" class=\"dataframe\">\n",
       "  <thead>\n",
       "    <tr style=\"text-align: right;\">\n",
       "      <th></th>\n",
       "      <th>Purchase ID</th>\n",
       "      <th>SN</th>\n",
       "      <th>Age</th>\n",
       "      <th>Gender</th>\n",
       "      <th>Item ID</th>\n",
       "      <th>Item Name</th>\n",
       "      <th>Price</th>\n",
       "    </tr>\n",
       "  </thead>\n",
       "  <tbody>\n",
       "    <tr>\n",
       "      <th>0</th>\n",
       "      <td>0</td>\n",
       "      <td>Lisim78</td>\n",
       "      <td>20</td>\n",
       "      <td>Male</td>\n",
       "      <td>108</td>\n",
       "      <td>Extraction, Quickblade Of Trembling Hands</td>\n",
       "      <td>3.53</td>\n",
       "    </tr>\n",
       "    <tr>\n",
       "      <th>1</th>\n",
       "      <td>1</td>\n",
       "      <td>Lisovynya38</td>\n",
       "      <td>40</td>\n",
       "      <td>Male</td>\n",
       "      <td>143</td>\n",
       "      <td>Frenzied Scimitar</td>\n",
       "      <td>1.56</td>\n",
       "    </tr>\n",
       "    <tr>\n",
       "      <th>2</th>\n",
       "      <td>2</td>\n",
       "      <td>Ithergue48</td>\n",
       "      <td>24</td>\n",
       "      <td>Male</td>\n",
       "      <td>92</td>\n",
       "      <td>Final Critic</td>\n",
       "      <td>4.88</td>\n",
       "    </tr>\n",
       "    <tr>\n",
       "      <th>3</th>\n",
       "      <td>3</td>\n",
       "      <td>Chamassasya86</td>\n",
       "      <td>24</td>\n",
       "      <td>Male</td>\n",
       "      <td>100</td>\n",
       "      <td>Blindscythe</td>\n",
       "      <td>3.27</td>\n",
       "    </tr>\n",
       "    <tr>\n",
       "      <th>4</th>\n",
       "      <td>4</td>\n",
       "      <td>Iskosia90</td>\n",
       "      <td>23</td>\n",
       "      <td>Male</td>\n",
       "      <td>131</td>\n",
       "      <td>Fury</td>\n",
       "      <td>1.44</td>\n",
       "    </tr>\n",
       "  </tbody>\n",
       "</table>\n",
       "</div>"
      ],
      "text/plain": [
       "   Purchase ID             SN  Age Gender  Item ID  \\\n",
       "0            0        Lisim78   20   Male      108   \n",
       "1            1    Lisovynya38   40   Male      143   \n",
       "2            2     Ithergue48   24   Male       92   \n",
       "3            3  Chamassasya86   24   Male      100   \n",
       "4            4      Iskosia90   23   Male      131   \n",
       "\n",
       "                                   Item Name  Price  \n",
       "0  Extraction, Quickblade Of Trembling Hands   3.53  \n",
       "1                          Frenzied Scimitar   1.56  \n",
       "2                               Final Critic   4.88  \n",
       "3                                Blindscythe   3.27  \n",
       "4                                       Fury   1.44  "
      ]
     },
     "execution_count": 7,
     "metadata": {},
     "output_type": "execute_result"
    }
   ],
   "source": [
    "df.head()"
   ]
  },
  {
   "cell_type": "code",
   "execution_count": 8,
   "metadata": {
    "scrolled": true
   },
   "outputs": [],
   "source": [
    "tot_players_df = pd.DataFrame ([df[\"SN\"].nunique()],columns=[\"Total Players\"])"
   ]
  },
  {
   "cell_type": "markdown",
   "metadata": {},
   "source": [
    "# Player Count"
   ]
  },
  {
   "cell_type": "markdown",
   "metadata": {},
   "source": [
    "Display the total number of players"
   ]
  },
  {
   "cell_type": "code",
   "execution_count": 9,
   "metadata": {},
   "outputs": [
    {
     "data": {
      "text/html": [
       "<div>\n",
       "<style scoped>\n",
       "    .dataframe tbody tr th:only-of-type {\n",
       "        vertical-align: middle;\n",
       "    }\n",
       "\n",
       "    .dataframe tbody tr th {\n",
       "        vertical-align: top;\n",
       "    }\n",
       "\n",
       "    .dataframe thead th {\n",
       "        text-align: right;\n",
       "    }\n",
       "</style>\n",
       "<table border=\"1\" class=\"dataframe\">\n",
       "  <thead>\n",
       "    <tr style=\"text-align: right;\">\n",
       "      <th></th>\n",
       "      <th>Total Players</th>\n",
       "    </tr>\n",
       "  </thead>\n",
       "  <tbody>\n",
       "    <tr>\n",
       "      <th>0</th>\n",
       "      <td>576</td>\n",
       "    </tr>\n",
       "  </tbody>\n",
       "</table>\n",
       "</div>"
      ],
      "text/plain": [
       "   Total Players\n",
       "0            576"
      ]
     },
     "execution_count": 9,
     "metadata": {},
     "output_type": "execute_result"
    }
   ],
   "source": [
    "tot_players_df"
   ]
  },
  {
   "cell_type": "markdown",
   "metadata": {},
   "source": [
    "#Run basic calculations to obtain number of unique items, average price, etc."
   ]
  },
  {
   "cell_type": "code",
   "execution_count": 10,
   "metadata": {},
   "outputs": [],
   "source": [
    "# tot_players = number of unique players"
   ]
  },
  {
   "cell_type": "code",
   "execution_count": 11,
   "metadata": {},
   "outputs": [],
   "source": [
    "tot_players = sum(tot_players_df[\"Total Players\"])"
   ]
  },
  {
   "cell_type": "code",
   "execution_count": 12,
   "metadata": {},
   "outputs": [],
   "source": [
    "summary = [df[\"Item ID\"].nunique(),\\\n",
    "           df[\"Price\"].mean(),\\\n",
    "           df[\"Purchase ID\"].count(),\\\n",
    "           df[\"Price\"].sum()]"
   ]
  },
  {
   "cell_type": "code",
   "execution_count": 13,
   "metadata": {},
   "outputs": [],
   "source": [
    "# create df2 to summarize "
   ]
  },
  {
   "cell_type": "code",
   "execution_count": 14,
   "metadata": {},
   "outputs": [],
   "source": [
    "df2 = pd.DataFrame([summary], columns=[\"Number of Unique Items\", \n",
    "                                       \"Average Price\", \n",
    "                                       \"Number of Purchases\", \n",
    "                                       \"Total Revenue\"])"
   ]
  },
  {
   "cell_type": "markdown",
   "metadata": {},
   "source": [
    "    Create format dict to format dataframe columns with correct $,%, and decimal places\n",
    "    This has advantages because it displays in the correct format but DOES NOT mutate the dataframe\n",
    "    https://pbpython.com/styling-pandas.html"
   ]
  },
  {
   "cell_type": "code",
   "execution_count": 15,
   "metadata": {},
   "outputs": [],
   "source": [
    "format_dict = {\"Average Price\":\"${:.2f}\", \n",
    "               \"Total Revenue\": \"${:.2f}\", \n",
    "               \"Percentage of Players\":\"{:.2%}\",\n",
    "               \"Average Purchase Price\":\"${:.2f}\",\n",
    "               \"Total Purchase Value\":\"${:.2f}\",\n",
    "               \"Avg Total Purchase per Person\":\"${:.2f}\",\n",
    "              }"
   ]
  },
  {
   "cell_type": "markdown",
   "metadata": {},
   "source": [
    "# Purchasing Analysis (Total)"
   ]
  },
  {
   "cell_type": "code",
   "execution_count": 16,
   "metadata": {},
   "outputs": [
    {
     "data": {
      "text/html": [
       "<style  type=\"text/css\" >\n",
       "</style><table id=\"T_352cef64_1eaf_11ea_9cd1_a86daacce592\" ><thead>    <tr>        <th class=\"blank level0\" ></th>        <th class=\"col_heading level0 col0\" >Number of Unique Items</th>        <th class=\"col_heading level0 col1\" >Average Price</th>        <th class=\"col_heading level0 col2\" >Number of Purchases</th>        <th class=\"col_heading level0 col3\" >Total Revenue</th>    </tr></thead><tbody>\n",
       "                <tr>\n",
       "                        <th id=\"T_352cef64_1eaf_11ea_9cd1_a86daacce592level0_row0\" class=\"row_heading level0 row0\" >0</th>\n",
       "                        <td id=\"T_352cef64_1eaf_11ea_9cd1_a86daacce592row0_col0\" class=\"data row0 col0\" >183</td>\n",
       "                        <td id=\"T_352cef64_1eaf_11ea_9cd1_a86daacce592row0_col1\" class=\"data row0 col1\" >$3.05</td>\n",
       "                        <td id=\"T_352cef64_1eaf_11ea_9cd1_a86daacce592row0_col2\" class=\"data row0 col2\" >780</td>\n",
       "                        <td id=\"T_352cef64_1eaf_11ea_9cd1_a86daacce592row0_col3\" class=\"data row0 col3\" >$2379.77</td>\n",
       "            </tr>\n",
       "    </tbody></table>"
      ],
      "text/plain": [
       "<pandas.io.formats.style.Styler at 0x1c4db2b2ac8>"
      ]
     },
     "execution_count": 16,
     "metadata": {},
     "output_type": "execute_result"
    }
   ],
   "source": [
    "df2.style.format(format_dict)"
   ]
  },
  {
   "cell_type": "markdown",
   "metadata": {},
   "source": [
    "#### Perform Gender Demographics\n",
    "    Percentage and Count of Male Players\n",
    "    Percentage and Count of Female Players\n",
    "    Percentage and Count of Other / Non-Disclosed"
   ]
  },
  {
   "cell_type": "code",
   "execution_count": 17,
   "metadata": {},
   "outputs": [],
   "source": [
    "gend_df = df.loc[:,[\"Gender\", \"SN\"]].drop_duplicates()"
   ]
  },
  {
   "cell_type": "code",
   "execution_count": 18,
   "metadata": {},
   "outputs": [],
   "source": [
    "gend_df = gend_df.groupby([\"Gender\"])\\\n",
    "    .size().reset_index(name=\"Total Count\")\\\n",
    "        .sort_values(by=['Total Count'], ascending=False)"
   ]
  },
  {
   "cell_type": "code",
   "execution_count": 19,
   "metadata": {},
   "outputs": [],
   "source": [
    "gend_df[\"Percentage of Players\"] = gend_df[\"Total Count\"].apply(lambda x: x/tot_players)"
   ]
  },
  {
   "cell_type": "markdown",
   "metadata": {},
   "source": [
    "## Gender Demographics\n",
    "   "
   ]
  },
  {
   "cell_type": "code",
   "execution_count": 20,
   "metadata": {},
   "outputs": [
    {
     "data": {
      "text/html": [
       "<style  type=\"text/css\" >\n",
       "</style><table id=\"T_3534184c_1eaf_11ea_8a21_a86daacce592\" ><thead>    <tr>        <th class=\"blank level0\" ></th>        <th class=\"col_heading level0 col0\" >Gender</th>        <th class=\"col_heading level0 col1\" >Total Count</th>        <th class=\"col_heading level0 col2\" >Percentage of Players</th>    </tr></thead><tbody>\n",
       "                <tr>\n",
       "                        <th id=\"T_3534184c_1eaf_11ea_8a21_a86daacce592level0_row0\" class=\"row_heading level0 row0\" >1</th>\n",
       "                        <td id=\"T_3534184c_1eaf_11ea_8a21_a86daacce592row0_col0\" class=\"data row0 col0\" >Male</td>\n",
       "                        <td id=\"T_3534184c_1eaf_11ea_8a21_a86daacce592row0_col1\" class=\"data row0 col1\" >484</td>\n",
       "                        <td id=\"T_3534184c_1eaf_11ea_8a21_a86daacce592row0_col2\" class=\"data row0 col2\" >84.03%</td>\n",
       "            </tr>\n",
       "            <tr>\n",
       "                        <th id=\"T_3534184c_1eaf_11ea_8a21_a86daacce592level0_row1\" class=\"row_heading level0 row1\" >0</th>\n",
       "                        <td id=\"T_3534184c_1eaf_11ea_8a21_a86daacce592row1_col0\" class=\"data row1 col0\" >Female</td>\n",
       "                        <td id=\"T_3534184c_1eaf_11ea_8a21_a86daacce592row1_col1\" class=\"data row1 col1\" >81</td>\n",
       "                        <td id=\"T_3534184c_1eaf_11ea_8a21_a86daacce592row1_col2\" class=\"data row1 col2\" >14.06%</td>\n",
       "            </tr>\n",
       "            <tr>\n",
       "                        <th id=\"T_3534184c_1eaf_11ea_8a21_a86daacce592level0_row2\" class=\"row_heading level0 row2\" >2</th>\n",
       "                        <td id=\"T_3534184c_1eaf_11ea_8a21_a86daacce592row2_col0\" class=\"data row2 col0\" >Other / Non-Disclosed</td>\n",
       "                        <td id=\"T_3534184c_1eaf_11ea_8a21_a86daacce592row2_col1\" class=\"data row2 col1\" >11</td>\n",
       "                        <td id=\"T_3534184c_1eaf_11ea_8a21_a86daacce592row2_col2\" class=\"data row2 col2\" >1.91%</td>\n",
       "            </tr>\n",
       "    </tbody></table>"
      ],
      "text/plain": [
       "<pandas.io.formats.style.Styler at 0x1c4db501748>"
      ]
     },
     "execution_count": 20,
     "metadata": {},
     "output_type": "execute_result"
    }
   ],
   "source": [
    "gend_df.style.format(format_dict)"
   ]
  },
  {
   "cell_type": "markdown",
   "metadata": {},
   "source": [
    "#### Perfrom Purchaseing Analysis (Gender)\n",
    "    Run basic calculations to obtain purchase count, \n",
    "    avg. purchase price, avg. purchase total per person etc. by gender\n",
    "    Create a summary data frame to hold the results"
   ]
  },
  {
   "cell_type": "code",
   "execution_count": 21,
   "metadata": {},
   "outputs": [],
   "source": [
    "df3 = df.groupby(\"Gender\").agg(Purchase_Count = (\"Gender\", \"count\"),\n",
    "                                  Average_Purchase_Price = (\"Price\",\"mean\"),\n",
    "                                  Total_Purchase_Value=(\"Price\",\"sum\"))\n"
   ]
  },
  {
   "cell_type": "code",
   "execution_count": 22,
   "metadata": {},
   "outputs": [],
   "source": [
    "df3 = pd.merge(left=df3,right=gend_df, \n",
    "               how='left', \n",
    "               left_on=\"Gender\", \n",
    "               right_on=\"Gender\").drop([\"Percentage of Players\"], axis = 1)"
   ]
  },
  {
   "cell_type": "code",
   "execution_count": 23,
   "metadata": {},
   "outputs": [],
   "source": [
    "df3[\"Avg Total Purchase per Person\"] = df3[\"Total_Purchase_Value\"]/df3[\"Total Count\"]"
   ]
  },
  {
   "cell_type": "code",
   "execution_count": 24,
   "metadata": {},
   "outputs": [],
   "source": [
    "df3 = df3.drop([\"Total Count\"], axis =1)"
   ]
  },
  {
   "cell_type": "code",
   "execution_count": 25,
   "metadata": {},
   "outputs": [],
   "source": [
    "df3.columns = [\"Gender\", \n",
    "               \"Purchase Count\", \n",
    "               \"Average Purchase Price\", \n",
    "               \"Total Purchase Value\", \n",
    "               \"Avg Total Purchase per Person\"]"
   ]
  },
  {
   "cell_type": "markdown",
   "metadata": {},
   "source": [
    "## Purchasing Analysis (Gender)"
   ]
  },
  {
   "cell_type": "code",
   "execution_count": 26,
   "metadata": {},
   "outputs": [
    {
     "data": {
      "text/html": [
       "<style  type=\"text/css\" >\n",
       "</style><table id=\"T_353dcdd4_1eaf_11ea_bc58_a86daacce592\" ><thead>    <tr>        <th class=\"blank level0\" ></th>        <th class=\"col_heading level0 col0\" >Gender</th>        <th class=\"col_heading level0 col1\" >Purchase Count</th>        <th class=\"col_heading level0 col2\" >Average Purchase Price</th>        <th class=\"col_heading level0 col3\" >Total Purchase Value</th>        <th class=\"col_heading level0 col4\" >Avg Total Purchase per Person</th>    </tr></thead><tbody>\n",
       "                <tr>\n",
       "                        <th id=\"T_353dcdd4_1eaf_11ea_bc58_a86daacce592level0_row0\" class=\"row_heading level0 row0\" >0</th>\n",
       "                        <td id=\"T_353dcdd4_1eaf_11ea_bc58_a86daacce592row0_col0\" class=\"data row0 col0\" >Female</td>\n",
       "                        <td id=\"T_353dcdd4_1eaf_11ea_bc58_a86daacce592row0_col1\" class=\"data row0 col1\" >113</td>\n",
       "                        <td id=\"T_353dcdd4_1eaf_11ea_bc58_a86daacce592row0_col2\" class=\"data row0 col2\" >$3.20</td>\n",
       "                        <td id=\"T_353dcdd4_1eaf_11ea_bc58_a86daacce592row0_col3\" class=\"data row0 col3\" >$361.94</td>\n",
       "                        <td id=\"T_353dcdd4_1eaf_11ea_bc58_a86daacce592row0_col4\" class=\"data row0 col4\" >$4.47</td>\n",
       "            </tr>\n",
       "            <tr>\n",
       "                        <th id=\"T_353dcdd4_1eaf_11ea_bc58_a86daacce592level0_row1\" class=\"row_heading level0 row1\" >1</th>\n",
       "                        <td id=\"T_353dcdd4_1eaf_11ea_bc58_a86daacce592row1_col0\" class=\"data row1 col0\" >Male</td>\n",
       "                        <td id=\"T_353dcdd4_1eaf_11ea_bc58_a86daacce592row1_col1\" class=\"data row1 col1\" >652</td>\n",
       "                        <td id=\"T_353dcdd4_1eaf_11ea_bc58_a86daacce592row1_col2\" class=\"data row1 col2\" >$3.02</td>\n",
       "                        <td id=\"T_353dcdd4_1eaf_11ea_bc58_a86daacce592row1_col3\" class=\"data row1 col3\" >$1967.64</td>\n",
       "                        <td id=\"T_353dcdd4_1eaf_11ea_bc58_a86daacce592row1_col4\" class=\"data row1 col4\" >$4.07</td>\n",
       "            </tr>\n",
       "            <tr>\n",
       "                        <th id=\"T_353dcdd4_1eaf_11ea_bc58_a86daacce592level0_row2\" class=\"row_heading level0 row2\" >2</th>\n",
       "                        <td id=\"T_353dcdd4_1eaf_11ea_bc58_a86daacce592row2_col0\" class=\"data row2 col0\" >Other / Non-Disclosed</td>\n",
       "                        <td id=\"T_353dcdd4_1eaf_11ea_bc58_a86daacce592row2_col1\" class=\"data row2 col1\" >15</td>\n",
       "                        <td id=\"T_353dcdd4_1eaf_11ea_bc58_a86daacce592row2_col2\" class=\"data row2 col2\" >$3.35</td>\n",
       "                        <td id=\"T_353dcdd4_1eaf_11ea_bc58_a86daacce592row2_col3\" class=\"data row2 col3\" >$50.19</td>\n",
       "                        <td id=\"T_353dcdd4_1eaf_11ea_bc58_a86daacce592row2_col4\" class=\"data row2 col4\" >$4.56</td>\n",
       "            </tr>\n",
       "    </tbody></table>"
      ],
      "text/plain": [
       "<pandas.io.formats.style.Styler at 0x1c4db51b108>"
      ]
     },
     "execution_count": 26,
     "metadata": {},
     "output_type": "execute_result"
    }
   ],
   "source": [
    "df3.style.format(format_dict)"
   ]
  },
  {
   "cell_type": "markdown",
   "metadata": {},
   "source": [
    "#### Perform Age Demographics\n",
    "    Establish bins for ages\n",
    "    Categorize the existing players using the age bins. \n",
    "    Calculate the numbers and percentages by age group\n",
    "    Create a summary data frame to hold the results\n",
    "    Optional: round the percentage column to two decimal points\n",
    "    Display Age Demographics Table"
   ]
  },
  {
   "cell_type": "code",
   "execution_count": 27,
   "metadata": {},
   "outputs": [],
   "source": [
    "df4 = df"
   ]
  },
  {
   "cell_type": "code",
   "execution_count": 28,
   "metadata": {},
   "outputs": [],
   "source": [
    "df4['Age Ranges'] = pd.cut(df4['Age'],[0, 9, 14, 19, 24, 29, 34, 39, 1000],\\\n",
    "                   labels=[\"<10\", \n",
    "                        \"10-14\", \n",
    "                        \"15-19\", \n",
    "                        \"20-24\",\n",
    "                        \"25-29\",\n",
    "                        \"30-34\", \n",
    "                        \"35-39\",\n",
    "                        \"40+\"])"
   ]
  },
  {
   "cell_type": "code",
   "execution_count": 29,
   "metadata": {},
   "outputs": [],
   "source": [
    "age_binned = df4.loc[:,[\"Age Ranges\", \"SN\"]].drop_duplicates()"
   ]
  },
  {
   "cell_type": "code",
   "execution_count": 30,
   "metadata": {},
   "outputs": [],
   "source": [
    "age_binned = age_binned.groupby([\"Age Ranges\"]).size().reset_index(name=\"Total Count\")"
   ]
  },
  {
   "cell_type": "code",
   "execution_count": 31,
   "metadata": {},
   "outputs": [],
   "source": [
    "age_binned[\"Percentage of Players\"] = age_binned[\"Total Count\"].apply(lambda x: x/tot_players)"
   ]
  },
  {
   "cell_type": "markdown",
   "metadata": {},
   "source": [
    "## Age Demographics"
   ]
  },
  {
   "cell_type": "code",
   "execution_count": 32,
   "metadata": {},
   "outputs": [
    {
     "data": {
      "text/html": [
       "<style  type=\"text/css\" >\n",
       "</style><table id=\"T_3545bd10_1eaf_11ea_b7c8_a86daacce592\" ><thead>    <tr>        <th class=\"blank level0\" ></th>        <th class=\"col_heading level0 col0\" >Age Ranges</th>        <th class=\"col_heading level0 col1\" >Total Count</th>        <th class=\"col_heading level0 col2\" >Percentage of Players</th>    </tr></thead><tbody>\n",
       "                <tr>\n",
       "                        <th id=\"T_3545bd10_1eaf_11ea_b7c8_a86daacce592level0_row0\" class=\"row_heading level0 row0\" >0</th>\n",
       "                        <td id=\"T_3545bd10_1eaf_11ea_b7c8_a86daacce592row0_col0\" class=\"data row0 col0\" ><10</td>\n",
       "                        <td id=\"T_3545bd10_1eaf_11ea_b7c8_a86daacce592row0_col1\" class=\"data row0 col1\" >17</td>\n",
       "                        <td id=\"T_3545bd10_1eaf_11ea_b7c8_a86daacce592row0_col2\" class=\"data row0 col2\" >2.95%</td>\n",
       "            </tr>\n",
       "            <tr>\n",
       "                        <th id=\"T_3545bd10_1eaf_11ea_b7c8_a86daacce592level0_row1\" class=\"row_heading level0 row1\" >1</th>\n",
       "                        <td id=\"T_3545bd10_1eaf_11ea_b7c8_a86daacce592row1_col0\" class=\"data row1 col0\" >10-14</td>\n",
       "                        <td id=\"T_3545bd10_1eaf_11ea_b7c8_a86daacce592row1_col1\" class=\"data row1 col1\" >22</td>\n",
       "                        <td id=\"T_3545bd10_1eaf_11ea_b7c8_a86daacce592row1_col2\" class=\"data row1 col2\" >3.82%</td>\n",
       "            </tr>\n",
       "            <tr>\n",
       "                        <th id=\"T_3545bd10_1eaf_11ea_b7c8_a86daacce592level0_row2\" class=\"row_heading level0 row2\" >2</th>\n",
       "                        <td id=\"T_3545bd10_1eaf_11ea_b7c8_a86daacce592row2_col0\" class=\"data row2 col0\" >15-19</td>\n",
       "                        <td id=\"T_3545bd10_1eaf_11ea_b7c8_a86daacce592row2_col1\" class=\"data row2 col1\" >107</td>\n",
       "                        <td id=\"T_3545bd10_1eaf_11ea_b7c8_a86daacce592row2_col2\" class=\"data row2 col2\" >18.58%</td>\n",
       "            </tr>\n",
       "            <tr>\n",
       "                        <th id=\"T_3545bd10_1eaf_11ea_b7c8_a86daacce592level0_row3\" class=\"row_heading level0 row3\" >3</th>\n",
       "                        <td id=\"T_3545bd10_1eaf_11ea_b7c8_a86daacce592row3_col0\" class=\"data row3 col0\" >20-24</td>\n",
       "                        <td id=\"T_3545bd10_1eaf_11ea_b7c8_a86daacce592row3_col1\" class=\"data row3 col1\" >258</td>\n",
       "                        <td id=\"T_3545bd10_1eaf_11ea_b7c8_a86daacce592row3_col2\" class=\"data row3 col2\" >44.79%</td>\n",
       "            </tr>\n",
       "            <tr>\n",
       "                        <th id=\"T_3545bd10_1eaf_11ea_b7c8_a86daacce592level0_row4\" class=\"row_heading level0 row4\" >4</th>\n",
       "                        <td id=\"T_3545bd10_1eaf_11ea_b7c8_a86daacce592row4_col0\" class=\"data row4 col0\" >25-29</td>\n",
       "                        <td id=\"T_3545bd10_1eaf_11ea_b7c8_a86daacce592row4_col1\" class=\"data row4 col1\" >77</td>\n",
       "                        <td id=\"T_3545bd10_1eaf_11ea_b7c8_a86daacce592row4_col2\" class=\"data row4 col2\" >13.37%</td>\n",
       "            </tr>\n",
       "            <tr>\n",
       "                        <th id=\"T_3545bd10_1eaf_11ea_b7c8_a86daacce592level0_row5\" class=\"row_heading level0 row5\" >5</th>\n",
       "                        <td id=\"T_3545bd10_1eaf_11ea_b7c8_a86daacce592row5_col0\" class=\"data row5 col0\" >30-34</td>\n",
       "                        <td id=\"T_3545bd10_1eaf_11ea_b7c8_a86daacce592row5_col1\" class=\"data row5 col1\" >52</td>\n",
       "                        <td id=\"T_3545bd10_1eaf_11ea_b7c8_a86daacce592row5_col2\" class=\"data row5 col2\" >9.03%</td>\n",
       "            </tr>\n",
       "            <tr>\n",
       "                        <th id=\"T_3545bd10_1eaf_11ea_b7c8_a86daacce592level0_row6\" class=\"row_heading level0 row6\" >6</th>\n",
       "                        <td id=\"T_3545bd10_1eaf_11ea_b7c8_a86daacce592row6_col0\" class=\"data row6 col0\" >35-39</td>\n",
       "                        <td id=\"T_3545bd10_1eaf_11ea_b7c8_a86daacce592row6_col1\" class=\"data row6 col1\" >31</td>\n",
       "                        <td id=\"T_3545bd10_1eaf_11ea_b7c8_a86daacce592row6_col2\" class=\"data row6 col2\" >5.38%</td>\n",
       "            </tr>\n",
       "            <tr>\n",
       "                        <th id=\"T_3545bd10_1eaf_11ea_b7c8_a86daacce592level0_row7\" class=\"row_heading level0 row7\" >7</th>\n",
       "                        <td id=\"T_3545bd10_1eaf_11ea_b7c8_a86daacce592row7_col0\" class=\"data row7 col0\" >40+</td>\n",
       "                        <td id=\"T_3545bd10_1eaf_11ea_b7c8_a86daacce592row7_col1\" class=\"data row7 col1\" >12</td>\n",
       "                        <td id=\"T_3545bd10_1eaf_11ea_b7c8_a86daacce592row7_col2\" class=\"data row7 col2\" >2.08%</td>\n",
       "            </tr>\n",
       "    </tbody></table>"
      ],
      "text/plain": [
       "<pandas.io.formats.style.Styler at 0x1c4db57bc48>"
      ]
     },
     "execution_count": 32,
     "metadata": {},
     "output_type": "execute_result"
    }
   ],
   "source": [
    "age_binned.style.format(format_dict)"
   ]
  },
  {
   "cell_type": "markdown",
   "metadata": {},
   "source": [
    "#### Purchasing Analysis (Age)\n",
    "    Bin the purchase_data data frame by age\n",
    "    Run basic calculations to obtain purchase count, avg. \n",
    "    purchase price, avg. purchase total per person etc. in the table below\n",
    "    Create a summary data frame to hold the results\n",
    "    Optional: give the displayed data cleaner formatting\n",
    "    Display the summary data frame"
   ]
  },
  {
   "cell_type": "code",
   "execution_count": 33,
   "metadata": {},
   "outputs": [],
   "source": [
    "df4 = df4.groupby(\"Age Ranges\").agg(Purchase_Count = (\"Age Ranges\", \"count\"),\n",
    "                                  Average_Purchase_Price = (\"Price\",\"mean\"),\n",
    "                                  Total_Purchase_Value=(\"Price\",\"sum\"))"
   ]
  },
  {
   "cell_type": "code",
   "execution_count": 34,
   "metadata": {},
   "outputs": [],
   "source": [
    "df4 = pd.merge(left=df4,right=age_binned, \n",
    "               how='left', \n",
    "               left_on=\"Age Ranges\", \n",
    "               right_on=\"Age Ranges\").drop([\"Percentage of Players\"], axis = 1)"
   ]
  },
  {
   "cell_type": "code",
   "execution_count": 35,
   "metadata": {},
   "outputs": [],
   "source": [
    "df4[\"Avg Total Purchase per Person\"] = df4[\"Total_Purchase_Value\"]/df4[\"Total Count\"]"
   ]
  },
  {
   "cell_type": "code",
   "execution_count": 36,
   "metadata": {},
   "outputs": [],
   "source": [
    "df4 = df4.drop([\"Total Count\"], axis =1)"
   ]
  },
  {
   "cell_type": "code",
   "execution_count": 37,
   "metadata": {},
   "outputs": [],
   "source": [
    "df4.columns = [\"Age Ranges\", \n",
    "               \"Purchase Count\", \n",
    "               \"Average Purchase Price\", \n",
    "               \"Total Purchase Value\", \n",
    "               \"Avg Total Purchase per Person\"]"
   ]
  },
  {
   "cell_type": "markdown",
   "metadata": {},
   "source": [
    "## Purchasing Analysis (Age)"
   ]
  },
  {
   "cell_type": "code",
   "execution_count": 38,
   "metadata": {},
   "outputs": [
    {
     "data": {
      "text/html": [
       "<style  type=\"text/css\" >\n",
       "</style><table id=\"T_35520cdc_1eaf_11ea_a4ee_a86daacce592\" ><thead>    <tr>        <th class=\"blank level0\" ></th>        <th class=\"col_heading level0 col0\" >Age Ranges</th>        <th class=\"col_heading level0 col1\" >Purchase Count</th>        <th class=\"col_heading level0 col2\" >Average Purchase Price</th>        <th class=\"col_heading level0 col3\" >Total Purchase Value</th>        <th class=\"col_heading level0 col4\" >Avg Total Purchase per Person</th>    </tr></thead><tbody>\n",
       "                <tr>\n",
       "                        <th id=\"T_35520cdc_1eaf_11ea_a4ee_a86daacce592level0_row0\" class=\"row_heading level0 row0\" >0</th>\n",
       "                        <td id=\"T_35520cdc_1eaf_11ea_a4ee_a86daacce592row0_col0\" class=\"data row0 col0\" ><10</td>\n",
       "                        <td id=\"T_35520cdc_1eaf_11ea_a4ee_a86daacce592row0_col1\" class=\"data row0 col1\" >23</td>\n",
       "                        <td id=\"T_35520cdc_1eaf_11ea_a4ee_a86daacce592row0_col2\" class=\"data row0 col2\" >$3.35</td>\n",
       "                        <td id=\"T_35520cdc_1eaf_11ea_a4ee_a86daacce592row0_col3\" class=\"data row0 col3\" >$77.13</td>\n",
       "                        <td id=\"T_35520cdc_1eaf_11ea_a4ee_a86daacce592row0_col4\" class=\"data row0 col4\" >$4.54</td>\n",
       "            </tr>\n",
       "            <tr>\n",
       "                        <th id=\"T_35520cdc_1eaf_11ea_a4ee_a86daacce592level0_row1\" class=\"row_heading level0 row1\" >1</th>\n",
       "                        <td id=\"T_35520cdc_1eaf_11ea_a4ee_a86daacce592row1_col0\" class=\"data row1 col0\" >10-14</td>\n",
       "                        <td id=\"T_35520cdc_1eaf_11ea_a4ee_a86daacce592row1_col1\" class=\"data row1 col1\" >28</td>\n",
       "                        <td id=\"T_35520cdc_1eaf_11ea_a4ee_a86daacce592row1_col2\" class=\"data row1 col2\" >$2.96</td>\n",
       "                        <td id=\"T_35520cdc_1eaf_11ea_a4ee_a86daacce592row1_col3\" class=\"data row1 col3\" >$82.78</td>\n",
       "                        <td id=\"T_35520cdc_1eaf_11ea_a4ee_a86daacce592row1_col4\" class=\"data row1 col4\" >$3.76</td>\n",
       "            </tr>\n",
       "            <tr>\n",
       "                        <th id=\"T_35520cdc_1eaf_11ea_a4ee_a86daacce592level0_row2\" class=\"row_heading level0 row2\" >2</th>\n",
       "                        <td id=\"T_35520cdc_1eaf_11ea_a4ee_a86daacce592row2_col0\" class=\"data row2 col0\" >15-19</td>\n",
       "                        <td id=\"T_35520cdc_1eaf_11ea_a4ee_a86daacce592row2_col1\" class=\"data row2 col1\" >136</td>\n",
       "                        <td id=\"T_35520cdc_1eaf_11ea_a4ee_a86daacce592row2_col2\" class=\"data row2 col2\" >$3.04</td>\n",
       "                        <td id=\"T_35520cdc_1eaf_11ea_a4ee_a86daacce592row2_col3\" class=\"data row2 col3\" >$412.89</td>\n",
       "                        <td id=\"T_35520cdc_1eaf_11ea_a4ee_a86daacce592row2_col4\" class=\"data row2 col4\" >$3.86</td>\n",
       "            </tr>\n",
       "            <tr>\n",
       "                        <th id=\"T_35520cdc_1eaf_11ea_a4ee_a86daacce592level0_row3\" class=\"row_heading level0 row3\" >3</th>\n",
       "                        <td id=\"T_35520cdc_1eaf_11ea_a4ee_a86daacce592row3_col0\" class=\"data row3 col0\" >20-24</td>\n",
       "                        <td id=\"T_35520cdc_1eaf_11ea_a4ee_a86daacce592row3_col1\" class=\"data row3 col1\" >365</td>\n",
       "                        <td id=\"T_35520cdc_1eaf_11ea_a4ee_a86daacce592row3_col2\" class=\"data row3 col2\" >$3.05</td>\n",
       "                        <td id=\"T_35520cdc_1eaf_11ea_a4ee_a86daacce592row3_col3\" class=\"data row3 col3\" >$1114.06</td>\n",
       "                        <td id=\"T_35520cdc_1eaf_11ea_a4ee_a86daacce592row3_col4\" class=\"data row3 col4\" >$4.32</td>\n",
       "            </tr>\n",
       "            <tr>\n",
       "                        <th id=\"T_35520cdc_1eaf_11ea_a4ee_a86daacce592level0_row4\" class=\"row_heading level0 row4\" >4</th>\n",
       "                        <td id=\"T_35520cdc_1eaf_11ea_a4ee_a86daacce592row4_col0\" class=\"data row4 col0\" >25-29</td>\n",
       "                        <td id=\"T_35520cdc_1eaf_11ea_a4ee_a86daacce592row4_col1\" class=\"data row4 col1\" >101</td>\n",
       "                        <td id=\"T_35520cdc_1eaf_11ea_a4ee_a86daacce592row4_col2\" class=\"data row4 col2\" >$2.90</td>\n",
       "                        <td id=\"T_35520cdc_1eaf_11ea_a4ee_a86daacce592row4_col3\" class=\"data row4 col3\" >$293.00</td>\n",
       "                        <td id=\"T_35520cdc_1eaf_11ea_a4ee_a86daacce592row4_col4\" class=\"data row4 col4\" >$3.81</td>\n",
       "            </tr>\n",
       "            <tr>\n",
       "                        <th id=\"T_35520cdc_1eaf_11ea_a4ee_a86daacce592level0_row5\" class=\"row_heading level0 row5\" >5</th>\n",
       "                        <td id=\"T_35520cdc_1eaf_11ea_a4ee_a86daacce592row5_col0\" class=\"data row5 col0\" >30-34</td>\n",
       "                        <td id=\"T_35520cdc_1eaf_11ea_a4ee_a86daacce592row5_col1\" class=\"data row5 col1\" >73</td>\n",
       "                        <td id=\"T_35520cdc_1eaf_11ea_a4ee_a86daacce592row5_col2\" class=\"data row5 col2\" >$2.93</td>\n",
       "                        <td id=\"T_35520cdc_1eaf_11ea_a4ee_a86daacce592row5_col3\" class=\"data row5 col3\" >$214.00</td>\n",
       "                        <td id=\"T_35520cdc_1eaf_11ea_a4ee_a86daacce592row5_col4\" class=\"data row5 col4\" >$4.12</td>\n",
       "            </tr>\n",
       "            <tr>\n",
       "                        <th id=\"T_35520cdc_1eaf_11ea_a4ee_a86daacce592level0_row6\" class=\"row_heading level0 row6\" >6</th>\n",
       "                        <td id=\"T_35520cdc_1eaf_11ea_a4ee_a86daacce592row6_col0\" class=\"data row6 col0\" >35-39</td>\n",
       "                        <td id=\"T_35520cdc_1eaf_11ea_a4ee_a86daacce592row6_col1\" class=\"data row6 col1\" >41</td>\n",
       "                        <td id=\"T_35520cdc_1eaf_11ea_a4ee_a86daacce592row6_col2\" class=\"data row6 col2\" >$3.60</td>\n",
       "                        <td id=\"T_35520cdc_1eaf_11ea_a4ee_a86daacce592row6_col3\" class=\"data row6 col3\" >$147.67</td>\n",
       "                        <td id=\"T_35520cdc_1eaf_11ea_a4ee_a86daacce592row6_col4\" class=\"data row6 col4\" >$4.76</td>\n",
       "            </tr>\n",
       "            <tr>\n",
       "                        <th id=\"T_35520cdc_1eaf_11ea_a4ee_a86daacce592level0_row7\" class=\"row_heading level0 row7\" >7</th>\n",
       "                        <td id=\"T_35520cdc_1eaf_11ea_a4ee_a86daacce592row7_col0\" class=\"data row7 col0\" >40+</td>\n",
       "                        <td id=\"T_35520cdc_1eaf_11ea_a4ee_a86daacce592row7_col1\" class=\"data row7 col1\" >13</td>\n",
       "                        <td id=\"T_35520cdc_1eaf_11ea_a4ee_a86daacce592row7_col2\" class=\"data row7 col2\" >$2.94</td>\n",
       "                        <td id=\"T_35520cdc_1eaf_11ea_a4ee_a86daacce592row7_col3\" class=\"data row7 col3\" >$38.24</td>\n",
       "                        <td id=\"T_35520cdc_1eaf_11ea_a4ee_a86daacce592row7_col4\" class=\"data row7 col4\" >$3.19</td>\n",
       "            </tr>\n",
       "    </tbody></table>"
      ],
      "text/plain": [
       "<pandas.io.formats.style.Styler at 0x1c4db584748>"
      ]
     },
     "execution_count": 38,
     "metadata": {},
     "output_type": "execute_result"
    }
   ],
   "source": [
    "df4.style.format(format_dict)"
   ]
  },
  {
   "cell_type": "markdown",
   "metadata": {},
   "source": [
    "#### Top Spenders\n",
    "    Run basic calculations to obtain the results in the table below\n",
    "    Create a summary data frame to hold the results\n",
    "    Sort the total purchase value column in descending order\n",
    "    Optional: give the displayed data cleaner formatting\n",
    "    Display a preview of the summary data frame"
   ]
  },
  {
   "cell_type": "code",
   "execution_count": 39,
   "metadata": {},
   "outputs": [],
   "source": [
    "df5 = df.groupby(\"SN\").agg(Purchase_Count = (\"SN\", \"count\"),\n",
    "                                  Average_Purchase_Price = (\"Price\",\"mean\"),\n",
    "                                  Total_Purchase_Value=(\"Price\",\"sum\"))"
   ]
  },
  {
   "cell_type": "code",
   "execution_count": 40,
   "metadata": {},
   "outputs": [],
   "source": [
    "df5.columns = [\"Purchase Count\", \n",
    "               \"Average Purchase Price\", \n",
    "               \"Total Purchase Value\"]"
   ]
  },
  {
   "cell_type": "code",
   "execution_count": 41,
   "metadata": {},
   "outputs": [],
   "source": [
    "df5 = df5.sort_values(by=[\"Total Purchase Value\"], ascending=False)"
   ]
  },
  {
   "cell_type": "code",
   "execution_count": 42,
   "metadata": {},
   "outputs": [],
   "source": [
    "df5[\"Average Purchase Price\"] = df5[\"Average Purchase Price\"].map('${:,.2f}'.format)"
   ]
  },
  {
   "cell_type": "code",
   "execution_count": 43,
   "metadata": {},
   "outputs": [],
   "source": [
    "df5[\"Total Purchase Value\"] = df5[\"Total Purchase Value\"].map('${:,.2f}'.format)"
   ]
  },
  {
   "cell_type": "code",
   "execution_count": 44,
   "metadata": {},
   "outputs": [],
   "source": [
    "# I would have used the style format_dict method here but you cannot use head()"
   ]
  },
  {
   "cell_type": "markdown",
   "metadata": {},
   "source": [
    "## Top Spenders"
   ]
  },
  {
   "cell_type": "code",
   "execution_count": 45,
   "metadata": {},
   "outputs": [
    {
     "data": {
      "text/html": [
       "<div>\n",
       "<style scoped>\n",
       "    .dataframe tbody tr th:only-of-type {\n",
       "        vertical-align: middle;\n",
       "    }\n",
       "\n",
       "    .dataframe tbody tr th {\n",
       "        vertical-align: top;\n",
       "    }\n",
       "\n",
       "    .dataframe thead th {\n",
       "        text-align: right;\n",
       "    }\n",
       "</style>\n",
       "<table border=\"1\" class=\"dataframe\">\n",
       "  <thead>\n",
       "    <tr style=\"text-align: right;\">\n",
       "      <th></th>\n",
       "      <th>Purchase Count</th>\n",
       "      <th>Average Purchase Price</th>\n",
       "      <th>Total Purchase Value</th>\n",
       "    </tr>\n",
       "    <tr>\n",
       "      <th>SN</th>\n",
       "      <th></th>\n",
       "      <th></th>\n",
       "      <th></th>\n",
       "    </tr>\n",
       "  </thead>\n",
       "  <tbody>\n",
       "    <tr>\n",
       "      <th>Lisosia93</th>\n",
       "      <td>5</td>\n",
       "      <td>$3.79</td>\n",
       "      <td>$18.96</td>\n",
       "    </tr>\n",
       "    <tr>\n",
       "      <th>Idastidru52</th>\n",
       "      <td>4</td>\n",
       "      <td>$3.86</td>\n",
       "      <td>$15.45</td>\n",
       "    </tr>\n",
       "    <tr>\n",
       "      <th>Chamjask73</th>\n",
       "      <td>3</td>\n",
       "      <td>$4.61</td>\n",
       "      <td>$13.83</td>\n",
       "    </tr>\n",
       "    <tr>\n",
       "      <th>Iral74</th>\n",
       "      <td>4</td>\n",
       "      <td>$3.40</td>\n",
       "      <td>$13.62</td>\n",
       "    </tr>\n",
       "    <tr>\n",
       "      <th>Iskadarya95</th>\n",
       "      <td>3</td>\n",
       "      <td>$4.37</td>\n",
       "      <td>$13.10</td>\n",
       "    </tr>\n",
       "  </tbody>\n",
       "</table>\n",
       "</div>"
      ],
      "text/plain": [
       "             Purchase Count Average Purchase Price Total Purchase Value\n",
       "SN                                                                     \n",
       "Lisosia93                 5                  $3.79               $18.96\n",
       "Idastidru52               4                  $3.86               $15.45\n",
       "Chamjask73                3                  $4.61               $13.83\n",
       "Iral74                    4                  $3.40               $13.62\n",
       "Iskadarya95               3                  $4.37               $13.10"
      ]
     },
     "execution_count": 45,
     "metadata": {},
     "output_type": "execute_result"
    }
   ],
   "source": [
    "df5.head()"
   ]
  },
  {
   "cell_type": "markdown",
   "metadata": {},
   "source": [
    "#### Most Popular Items\n",
    "    Retrieve the Item ID, Item Name, and Item Price columns\n",
    "    Group by Item ID and Item Name. Perform calculations to obtain purchase count, item price, and total purchase value\n",
    "    Create a summary data frame to hold the results\n",
    "    Sort the purchase count column in descending order\n",
    "    Optional: give the displayed data cleaner formatting\n",
    "    Display a preview of the summary data fram"
   ]
  },
  {
   "cell_type": "code",
   "execution_count": 46,
   "metadata": {},
   "outputs": [],
   "source": [
    "item_df = df.loc[:,[\"Item ID\", \"Item Name\"]].drop_duplicates()"
   ]
  },
  {
   "cell_type": "code",
   "execution_count": 47,
   "metadata": {},
   "outputs": [],
   "source": [
    "df6 = df.groupby(\"Item ID\").agg(Purchase_Count = (\"Item ID\", \"count\"),\n",
    "                                  Average_Purchase_Price = (\"Price\",\"mean\"),\n",
    "                                  Total_Purchase_Value=(\"Price\",\"sum\"))"
   ]
  },
  {
   "cell_type": "code",
   "execution_count": 48,
   "metadata": {},
   "outputs": [],
   "source": [
    "df6.columns = [\"Purchase Count\", \n",
    "               \"Average Purchase Price\", \n",
    "               \"Total Purchase Value\"]"
   ]
  },
  {
   "cell_type": "code",
   "execution_count": 49,
   "metadata": {},
   "outputs": [],
   "source": [
    "df6 = pd.merge(left=item_df,right=df6, \n",
    "               how='outer', \n",
    "               left_on=\"Item ID\", \n",
    "               right_on=\"Item ID\")"
   ]
  },
  {
   "cell_type": "code",
   "execution_count": 50,
   "metadata": {},
   "outputs": [],
   "source": [
    "df7 = df6.sort_values(by=[\"Purchase Count\"], ascending=False)"
   ]
  },
  {
   "cell_type": "code",
   "execution_count": 51,
   "metadata": {},
   "outputs": [],
   "source": [
    "df7[\"Average Purchase Price\"] = df7[\"Average Purchase Price\"].map('${:,.2f}'.format)"
   ]
  },
  {
   "cell_type": "code",
   "execution_count": 52,
   "metadata": {},
   "outputs": [],
   "source": [
    "df7[\"Total Purchase Value\"] = df7[\"Total Purchase Value\"].map('${:,.2f}'.format)"
   ]
  },
  {
   "cell_type": "markdown",
   "metadata": {},
   "source": [
    "## Most Popular Items"
   ]
  },
  {
   "cell_type": "code",
   "execution_count": 53,
   "metadata": {},
   "outputs": [
    {
     "data": {
      "text/html": [
       "<div>\n",
       "<style scoped>\n",
       "    .dataframe tbody tr th:only-of-type {\n",
       "        vertical-align: middle;\n",
       "    }\n",
       "\n",
       "    .dataframe tbody tr th {\n",
       "        vertical-align: top;\n",
       "    }\n",
       "\n",
       "    .dataframe thead th {\n",
       "        text-align: right;\n",
       "    }\n",
       "</style>\n",
       "<table border=\"1\" class=\"dataframe\">\n",
       "  <thead>\n",
       "    <tr style=\"text-align: right;\">\n",
       "      <th></th>\n",
       "      <th>Item ID</th>\n",
       "      <th>Item Name</th>\n",
       "      <th>Purchase Count</th>\n",
       "      <th>Average Purchase Price</th>\n",
       "      <th>Total Purchase Value</th>\n",
       "    </tr>\n",
       "  </thead>\n",
       "  <tbody>\n",
       "    <tr>\n",
       "      <th>24</th>\n",
       "      <td>178</td>\n",
       "      <td>Oathbreaker, Last Hope of the Breaking Storm</td>\n",
       "      <td>12</td>\n",
       "      <td>$4.23</td>\n",
       "      <td>$50.76</td>\n",
       "    </tr>\n",
       "    <tr>\n",
       "      <th>0</th>\n",
       "      <td>108</td>\n",
       "      <td>Extraction, Quickblade Of Trembling Hands</td>\n",
       "      <td>9</td>\n",
       "      <td>$3.53</td>\n",
       "      <td>$31.77</td>\n",
       "    </tr>\n",
       "    <tr>\n",
       "      <th>17</th>\n",
       "      <td>82</td>\n",
       "      <td>Nirvana</td>\n",
       "      <td>9</td>\n",
       "      <td>$4.90</td>\n",
       "      <td>$44.10</td>\n",
       "    </tr>\n",
       "    <tr>\n",
       "      <th>94</th>\n",
       "      <td>145</td>\n",
       "      <td>Fiery Glass Crusader</td>\n",
       "      <td>9</td>\n",
       "      <td>$4.58</td>\n",
       "      <td>$41.22</td>\n",
       "    </tr>\n",
       "    <tr>\n",
       "      <th>134</th>\n",
       "      <td>19</td>\n",
       "      <td>Pursuit, Cudgel of Necromancy</td>\n",
       "      <td>8</td>\n",
       "      <td>$1.02</td>\n",
       "      <td>$8.16</td>\n",
       "    </tr>\n",
       "  </tbody>\n",
       "</table>\n",
       "</div>"
      ],
      "text/plain": [
       "     Item ID                                     Item Name  Purchase Count  \\\n",
       "24       178  Oathbreaker, Last Hope of the Breaking Storm              12   \n",
       "0        108     Extraction, Quickblade Of Trembling Hands               9   \n",
       "17        82                                       Nirvana               9   \n",
       "94       145                          Fiery Glass Crusader               9   \n",
       "134       19                 Pursuit, Cudgel of Necromancy               8   \n",
       "\n",
       "    Average Purchase Price Total Purchase Value  \n",
       "24                   $4.23               $50.76  \n",
       "0                    $3.53               $31.77  \n",
       "17                   $4.90               $44.10  \n",
       "94                   $4.58               $41.22  \n",
       "134                  $1.02                $8.16  "
      ]
     },
     "execution_count": 53,
     "metadata": {},
     "output_type": "execute_result"
    }
   ],
   "source": [
    "df7.head()"
   ]
  },
  {
   "cell_type": "markdown",
   "metadata": {},
   "source": [
    "#### Most Profitable Items\n",
    "    Sort the above table by total purchase value in descending order\n",
    "    Optional: give the displayed data cleaner formatting\n",
    "    Display a preview of the data frame"
   ]
  },
  {
   "cell_type": "code",
   "execution_count": 54,
   "metadata": {},
   "outputs": [],
   "source": [
    "df8 = df6.sort_values(by=[\"Total Purchase Value\"], ascending=False)"
   ]
  },
  {
   "cell_type": "code",
   "execution_count": 55,
   "metadata": {},
   "outputs": [],
   "source": [
    "df8[\"Average Purchase Price\"] = df8[\"Average Purchase Price\"].map('${:,.2f}'.format)"
   ]
  },
  {
   "cell_type": "code",
   "execution_count": 56,
   "metadata": {},
   "outputs": [],
   "source": [
    "df8[\"Total Purchase Value\"] = df8[\"Total Purchase Value\"].map('${:,.2f}'.format)"
   ]
  },
  {
   "cell_type": "markdown",
   "metadata": {},
   "source": [
    "## Most Profitable Items"
   ]
  },
  {
   "cell_type": "code",
   "execution_count": 57,
   "metadata": {},
   "outputs": [
    {
     "data": {
      "text/html": [
       "<div>\n",
       "<style scoped>\n",
       "    .dataframe tbody tr th:only-of-type {\n",
       "        vertical-align: middle;\n",
       "    }\n",
       "\n",
       "    .dataframe tbody tr th {\n",
       "        vertical-align: top;\n",
       "    }\n",
       "\n",
       "    .dataframe thead th {\n",
       "        text-align: right;\n",
       "    }\n",
       "</style>\n",
       "<table border=\"1\" class=\"dataframe\">\n",
       "  <thead>\n",
       "    <tr style=\"text-align: right;\">\n",
       "      <th></th>\n",
       "      <th>Item ID</th>\n",
       "      <th>Item Name</th>\n",
       "      <th>Purchase Count</th>\n",
       "      <th>Average Purchase Price</th>\n",
       "      <th>Total Purchase Value</th>\n",
       "    </tr>\n",
       "  </thead>\n",
       "  <tbody>\n",
       "    <tr>\n",
       "      <th>24</th>\n",
       "      <td>178</td>\n",
       "      <td>Oathbreaker, Last Hope of the Breaking Storm</td>\n",
       "      <td>12</td>\n",
       "      <td>$4.23</td>\n",
       "      <td>$50.76</td>\n",
       "    </tr>\n",
       "    <tr>\n",
       "      <th>17</th>\n",
       "      <td>82</td>\n",
       "      <td>Nirvana</td>\n",
       "      <td>9</td>\n",
       "      <td>$4.90</td>\n",
       "      <td>$44.10</td>\n",
       "    </tr>\n",
       "    <tr>\n",
       "      <th>94</th>\n",
       "      <td>145</td>\n",
       "      <td>Fiery Glass Crusader</td>\n",
       "      <td>9</td>\n",
       "      <td>$4.58</td>\n",
       "      <td>$41.22</td>\n",
       "    </tr>\n",
       "    <tr>\n",
       "      <th>2</th>\n",
       "      <td>92</td>\n",
       "      <td>Final Critic</td>\n",
       "      <td>8</td>\n",
       "      <td>$4.88</td>\n",
       "      <td>$39.04</td>\n",
       "    </tr>\n",
       "    <tr>\n",
       "      <th>112</th>\n",
       "      <td>103</td>\n",
       "      <td>Singed Scalpel</td>\n",
       "      <td>8</td>\n",
       "      <td>$4.35</td>\n",
       "      <td>$34.80</td>\n",
       "    </tr>\n",
       "  </tbody>\n",
       "</table>\n",
       "</div>"
      ],
      "text/plain": [
       "     Item ID                                     Item Name  Purchase Count  \\\n",
       "24       178  Oathbreaker, Last Hope of the Breaking Storm              12   \n",
       "17        82                                       Nirvana               9   \n",
       "94       145                          Fiery Glass Crusader               9   \n",
       "2         92                                  Final Critic               8   \n",
       "112      103                                Singed Scalpel               8   \n",
       "\n",
       "    Average Purchase Price Total Purchase Value  \n",
       "24                   $4.23               $50.76  \n",
       "17                   $4.90               $44.10  \n",
       "94                   $4.58               $41.22  \n",
       "2                    $4.88               $39.04  \n",
       "112                  $4.35               $34.80  "
      ]
     },
     "execution_count": 57,
     "metadata": {},
     "output_type": "execute_result"
    }
   ],
   "source": [
    "df8.head()"
   ]
  },
  {
   "cell_type": "markdown",
   "metadata": {},
   "source": [
    "## Observations:\n",
    "    The age range of 2-24 is the both the biggest user of the game\n",
    "    The age group of 35-39 is the biggest spender per person\n",
    "    Oathbreaker, Last Hope of the Breaking storm is the most popular Item\n",
    "    The demographic where the game is most popular is 20-24 year olds and primarily males (~8:1 M:F)"
   ]
  },
  {
   "cell_type": "code",
   "execution_count": null,
   "metadata": {},
   "outputs": [],
   "source": []
  }
 ],
 "metadata": {
  "kernelspec": {
   "display_name": "pylomi",
   "language": "python",
   "name": "pylomi"
  },
  "language_info": {
   "codemirror_mode": {
    "name": "ipython",
    "version": 3
   },
   "file_extension": ".py",
   "mimetype": "text/x-python",
   "name": "python",
   "nbconvert_exporter": "python",
   "pygments_lexer": "ipython3",
   "version": "3.7.4"
  }
 },
 "nbformat": 4,
 "nbformat_minor": 2
}
